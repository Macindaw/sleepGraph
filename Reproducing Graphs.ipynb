{
 "cells": [
  {
   "cell_type": "markdown",
   "id": "f475945d-f8dc-48e7-bbf3-c9760c64b4b1",
   "metadata": {},
   "source": [
    "# General Information On What You Can Expect To Learn From This Program\n",
    "The goal of this program was to give students a way to interact with data that is taken from data bases using python. Python is one of the most used programming languages today. It is majorly favoured by the computer science community and generally anyone that deals with data sets. \n",
    "\n",
    "Through using this program you will learn about the basics of using python and interacting with data sets. \n",
    "\n",
    "# Importing modules\n",
    "## General Information About Modules\n",
    "Importing modules is the way python code access extra code that is not usable by default. This is usefull as it allows for extra code to be easily accessed in the current file without manually copying all of the relevent classes and functions into the file.\n",
    "\n",
    "## The Modules Used In This File\n",
    "The modules used here are:\n",
    "\n",
    "- json\n",
    "- numpy\n",
    "- pandas\n",
    "- seaborn\n",
    "- datagraph\n",
    "\n",
    "These modules are essentailly what allows the code to create graphs and interact with the data.\n",
    "\n",
    "\n",
    "## Extra Information For The Curious\n",
    "talk about runtime vs other times\n",
    "\n",
    "The modules available in python can be inbuilt, shipped with the default python installation, or an external module that a third party has made. By default some modules are automatically imported, and this is what allow you to run functions like 'print()'.  The 'import' compiler directive that essentially tells the compiler to add the code that is in the module to the top of the code.\n",
    "\n",
    "If you want to look at the documentation for the modules used in this program click on the following links.\n",
    "\n",
    "- https://numpy.org/\n",
    "- https://pandas.pydata.org/\n",
    "- https://matplotlib.org/\n",
    "- https://seaborn.pydata.org/\n",
    "- https://docs.python.org/3/library/json.html\n",
    "- ####add a link to where i host my documentation later####\n"
   ]
  },
  {
   "cell_type": "code",
   "execution_count": 1,
   "id": "ac9346a8-a7d1-462a-80ea-3ebff976dbaa",
   "metadata": {},
   "outputs": [
    {
     "name": "stdout",
     "output_type": "stream",
     "text": [
      "3.9.7\n"
     ]
    }
   ],
   "source": [
    "%matplotlib widget\n",
    "\n",
    "from matplotlib import pyplot as plt\n",
    "import numpy as np\n",
    "import pandas as pd\n",
    "import json, re\n",
    "import seaborn as sns\n",
    "\n",
    "from datagraph import Categorical, Other\n",
    "\n",
    "from platform import python_version\n",
    "print(python_version())\n"
   ]
  },
  {
   "cell_type": "markdown",
   "id": "8528d877-848e-4bc6-938a-83eefc391cbd",
   "metadata": {},
   "source": [
    "# Reading JSON Files\n",
    "## Understanding Datasets\n",
    "\n",
    "One of the most important steps when first looking at a dataset is understanding what the numbers represent or how information is represented. You need to know if the data is stored as numerical or as a group of letters (Strings). If this step is not done data may not be read in correctly. It can also lead to unimportant data being analised and the conslusions made useless.\n",
    "\n",
    "e.g If you analise a random set of numbers and find out what the mean and standard deviation are without knowing what those numbers represent that information is basically useless. While you may now know the characteristics of the data if you don't know how that translates in the real world what was the point of doing the analysis in the first place.\n",
    "\n",
    "In our case the numbers can represent many things including:\n",
    "\n",
    "- Your Gender\n",
    "- How Old You Are\n",
    "- Which Number Option You Chose To A Multichoice Question\n",
    "- Any Many More\n",
    "\n",
    "\n",
    "## Getting This Information\n",
    "A common way that this informatiom is stored on websites is in JSON files. The JSON files we are reading 'sleep.jsonc' esentailly contains all of the all of the information that was used to create the sleep questionair that you have filled out.\n",
    "\n",
    "Under the code cell bellow you will see two different outputs. The two groups shown below, surounded by curly brackets {}, contain what is know as a dictionary of all of the questions and fields in the sleep.jsonc file. You will notice that each small section of data first has a group of characters (Strings) contained in 'single quotation marks' and then has a collon : with data following that. The first group surounded by, ' ', with a question mark at the end is the question and the second part after the collon, :, is what fields the data will be in.\n",
    "\n",
    "e.g In the small exert bellow 'What is your gender' is the question asked and ['Male', 'Female', 'Non-binary' and 'Prefer not to say'] are the possible otions the user can select. 'How often do I go to bed and worry about things happening at home or at school?' is again the question with ['Never', 'Once in a while', 'Sometimes', 'Quite often', 'Frequently if not always', 'Always'] being the possible choices in the quiz.\n",
    "\n",
    "> {'What is your gender?': ['Male', 'Female', 'Non-binary', 'Prefer not to say'], ..., 'How often do I go to bed and worry about things happening at home or at school?': ['Never', 'Once in a while', 'Sometimes', 'Quite often', 'Frequently if not always', 'Always']} \n",
    "\n",
    "It is important that you can fild exactly how the questions are written as you will need this to access the surveys' data later. \n",
    "\n",
    "## If The Above Is Too Complicated\n",
    "Essentially all you need to know to interact with the data is how to find exactly what each questions are in the survey. This is simply the sections of text that that are surounded by, ' ', and have a question mark at the end. If you have problems with this you can ask a teacher for help.\n",
    "\n",
    "## What Does The Code Bellow Do?\n",
    "The code bellow reds in the JSON file and extracts the questions from it.\n",
    "\n",
    "## What Is Printed Bellow The Code?\n",
    "The Two Groups of data printed bellow the code contain all of the questions in the survey. The first group of text is all of the categorical graph questions and labels that are stored in the sleep.jsonc file. The second group of text shows all of the non-categorical question data. "
   ]
  },
  {
   "cell_type": "markdown",
   "id": "bcd725d7-a7fd-48ec-b879-ee6e00c0122f",
   "metadata": {},
   "source": [
    "# Reading in Survey Questions"
   ]
  },
  {
   "cell_type": "code",
   "execution_count": 2,
   "id": "d9dcf7b5-7578-402b-8529-7fc24f8568e4",
   "metadata": {},
   "outputs": [
    {
     "name": "stdout",
     "output_type": "stream",
     "text": [
      "{'What is your gender?': ['Male', 'Female', 'Non-binary', 'Prefer not to say'], 'During your daytime activities, how much of a problem do you have with sleepiness?': ['No problem at all', 'A little problem', 'More than a little problem', 'A big problem', 'A very big problem'], 'What is the main reason you go to bed at this time on weekdays?': ['My parent / carer has set my bedtime', 'I feel sleepy', 'I finish my homework', 'My TV shows are over', 'My brother or sister go to bed', 'I finish socialising', 'I get home from my job', 'Other'], 'What is the main reason you wake up at this time on weekdays?': ['Noises or my pet wakes me up', 'My alarm clock wakes me up', 'My parent/carer or another family member wakes me up', 'I need to go to the bathroom', 'I donâ€™t know, I just wake up', 'Other'], 'How would you rate the quality of your sleep?': ['Very Poor', 'Poor', 'Fair', 'Good', 'Very Good'], 'What external factors influenced how well you slept last night?': ['Family/people disturbance', 'Pet disturbance', 'Noises outside your home', 'Room too hot/cold', 'Phone/technology noise or light', 'Other', 'None'], 'How rested or refreshed do you feel when you wake up for the day?': ['Not at all rested', 'Slightly rested', 'Somewhat rested', 'Well-rested', 'Very-well rested'], 'Are you free to wake up when you want on weekends?': ['Yes', 'No'], 'Each weekday, how many hours on average do you use technology (outside of school)?': ['1 hour or less', '1-2 hours', '3-4 hours', '5-6 hours', '7-8 hours', '9 or more hours'], 'How often do you use technology during the last hour before you go to sleep?': ['Never', 'Once in a while', 'Sometimes', 'Quite often', 'Frequently if not always', 'Always'], 'How often do you use technology after you have gone to bed?': ['Never', 'Once in a while', 'Sometimes', 'Quite often', 'Frequently if not always', 'Always'], 'How often do you wake up at night from notifications?': ['Never', 'Once in a while', 'Sometimes', 'Quite often', 'Frequently if not always', 'Always'], 'If you did not have your sports or physical activity, would you go to bed earlier or later?': ['Earlier than you usually do', 'The same as you usually do', 'Later than you usually do'], 'If you did not have your sports or physical activity, would you wake up earlier or later?': ['Earlier than you usually do', 'The same as you usually do', 'Later than you usually do'], 'How often have you arrived late to class because you overslept?': ['Never', 'Once', 'Twice', 'Several Times', 'Everyday'], 'Currently, what are your grades in school mostly?': ['Aâ€™s', 'Aâ€™s and Bâ€™s', 'Bâ€™s', 'Bâ€™s and Câ€™s', 'Câ€™s', 'Câ€™s and Dâ€™s', 'Dâ€™s', 'Dâ€™s and Fâ€™s'], 'If you compare yourself to other people your age, how would you describe your health?': ['Poor', 'Fair', 'Good', 'Excellent'], 'How often do I go to bed and think about things I need to do?': ['Never', 'Once in a while', 'Sometimes', 'Quite often', 'Frequently if not always', 'Always'], 'How often do I go to bed and replay the dayâ€™s events over and over in my mind?': ['Never', 'Once in a while', 'Sometimes', 'Quite often', 'Frequently if not always', 'Always'], 'How often do I check my clock several times during the night?': ['Never', 'Once in a while', 'Sometimes', 'Quite often', 'Frequently if not always', 'Always'], 'During the 1 hour before bedtime, how often do things happen that make me feel strong emotions?': ['Never', 'Once in a while', 'Sometimes', 'Quite often', 'Frequently if not always', 'Always'], 'How often do I go to bed feeling upset?': ['Never', 'Once in a while', 'Sometimes', 'Quite often', 'Frequently if not always', 'Always'], 'How often do I go to bed and worry about things happening at home or at school?': ['Never', 'Once in a while', 'Sometimes', 'Quite often', 'Frequently if not always', 'Always']}\n",
      "23\n",
      "\n",
      "\n",
      "{'In which country are you currently located?': 'country', 'In which city are you currently located?': 'freetext', 'How old are you?': 'number', 'What time do you try to go to sleep?': 'timeOfDay', 'How long does it take you to fall asleep?': 'number', 'What time do you wake up?': 'timeOfDay', 'After falling asleep how long do you spend awake during the night?': 'number', 'On average, how long do you nap during each weekday?': 'number', 'What time does your (school) day start?': 'timeOfDay', 'On average, how long do you nap each Saturday and Sunday?': 'number', 'How many caffeinated drinks do you have during the day?': 'number', 'What time do you have your last caffeinated drink?': 'timeOfDay', 'How many days did you do sport/physical activity in the morning before school?': 'number', 'How many days did you do sport/physical activity in the afternoon after school?': 'number', 'How many days did you do sport/physical activity in the evening on school days?': 'number', 'How many days did you do sport/physical activity on the weekend?': 'number', 'How many days did you study/do homework in the morning before school?': 'number', 'How many days did you study/do homework in the afternoon after school?': 'number', 'How many days did you study/do homework in the evening on days that you have school?': 'number', 'How many days did you study/do homework on the weekend?': 'number', 'How many hours did you study/do homework?': 'number'}\n",
      "21\n"
     ]
    }
   ],
   "source": [
    "# https://stackoverflow.com/questions/46317639/how-can-i-handle-reading-a-json-file-in-it-that-has-comments-with-python/46317842\n",
    "# https://docs.python.org/3/tutorial/inputoutput.html\n",
    "\n",
    "with open('sleep.jsonc', 'r') as f:\n",
    "    s = f.read()\n",
    "s = str(s)\n",
    "\n",
    "jsonObject = json.loads(re.sub(\"//.*\",\"\",s,flags=re.MULTILINE))\n",
    "# print(jsonObject)\n",
    "\n",
    "# print(jsonObject['questions'])\n",
    "categorical_labels = {}\n",
    "other_labels = {}\n",
    "\n",
    "for i in jsonObject['questions']:\n",
    "    try: \n",
    "        # print(f' {i[\"text\"]}: {i[\"values\"]}')\n",
    "        if isinstance(i[\"values\"][0], dict): #Deal with categorical numberical data\n",
    "            tlist = []\n",
    "            for j in i[\"values\"]:\n",
    "                tlist.append(j[\"label\"])\n",
    "            categorical_labels[i[\"text\"]] = tlist\n",
    "        else:   #Deal with Other data\n",
    "            categorical_labels[i[\"text\"]] = i[\"values\"]\n",
    "    except:\n",
    "        other_labels[i[\"text\"]] = i[\"type\"]\n",
    "        pass\n",
    "#Want the Values column for each question if it exists\n",
    "print(categorical_labels)\n",
    "print(len(categorical_labels))\n",
    "print(f\"\\n\\n{other_labels}\")\n",
    "print(len(other_labels))\n"
   ]
  },
  {
   "cell_type": "markdown",
   "id": "dba7fe0e-35b5-47b4-81fb-38444c92a906",
   "metadata": {
    "tags": []
   },
   "source": [
    "# Reading In The Survey Data From The CSV File\n",
    "\n",
    "## What Are CSV Files\n",
    "CSV, Comma-Separated-Values files are a common file type that is used to store data. Each seperate piece of data is seperated by a comma.\n",
    "\n",
    "## What Does The Code Bellow Do\n",
    "The code bellow uses a module called pandas to read all of the files from the surveydata.csv file. This data is stored in a variable called s_data.\n",
    "Bellow the code you can see that data that is being imported in a chart. The question titles can be seen in bold at the top of the chart.\n"
   ]
  },
  {
   "cell_type": "code",
   "execution_count": 3,
   "id": "cd60fb8f-a3e6-4305-8718-bc8819cc6310",
   "metadata": {},
   "outputs": [
    {
     "data": {
      "text/html": [
       "<div>\n",
       "<style scoped>\n",
       "    .dataframe tbody tr th:only-of-type {\n",
       "        vertical-align: middle;\n",
       "    }\n",
       "\n",
       "    .dataframe tbody tr th {\n",
       "        vertical-align: top;\n",
       "    }\n",
       "\n",
       "    .dataframe thead th {\n",
       "        text-align: right;\n",
       "    }\n",
       "</style>\n",
       "<table border=\"1\" class=\"dataframe\">\n",
       "  <thead>\n",
       "    <tr style=\"text-align: right;\">\n",
       "      <th></th>\n",
       "      <th>Timestamp</th>\n",
       "      <th>In which country are you currently located?</th>\n",
       "      <th>In which city are you currently located?</th>\n",
       "      <th>How old are you?</th>\n",
       "      <th>What is your gender?</th>\n",
       "      <th>During your daytime activities, how much of a problem do you have with sleepiness?</th>\n",
       "      <th>What time do you try to go to sleep?</th>\n",
       "      <th>What is the main reason you go to bed at this time on weekdays?</th>\n",
       "      <th>How long does it take you to fall asleep?</th>\n",
       "      <th>What time do you wake up?</th>\n",
       "      <th>...</th>\n",
       "      <th>How many hours did you study/do homework?</th>\n",
       "      <th>How often have you arrived late to class because you overslept?</th>\n",
       "      <th>Currently, what are your grades in school mostly?</th>\n",
       "      <th>If you compare yourself to other people your age, how would you describe your health?</th>\n",
       "      <th>How often do I go to bed and think about things I need to do?</th>\n",
       "      <th>How often do I go to bed and replay the day’s events over and over in my mind?</th>\n",
       "      <th>How often do I check my clock several times during the night?</th>\n",
       "      <th>During the 1 hour before bedtime, how often do things happen that make me feel strong emotions?</th>\n",
       "      <th>How often do I go to bed feeling upset?</th>\n",
       "      <th>How often do I go to bed and worry about things happening at home or at school?</th>\n",
       "    </tr>\n",
       "  </thead>\n",
       "  <tbody>\n",
       "    <tr>\n",
       "      <th>0</th>\n",
       "      <td>01/06/2021 07:24:37</td>\n",
       "      <td>Australia</td>\n",
       "      <td>Perth</td>\n",
       "      <td>29</td>\n",
       "      <td>NaN</td>\n",
       "      <td>2</td>\n",
       "      <td>22.0</td>\n",
       "      <td>I get home from my job</td>\n",
       "      <td>45</td>\n",
       "      <td>6.0</td>\n",
       "      <td>...</td>\n",
       "      <td>50.0</td>\n",
       "      <td>Never</td>\n",
       "      <td>A’s and B’s</td>\n",
       "      <td>3.0</td>\n",
       "      <td>3.0</td>\n",
       "      <td>2.0</td>\n",
       "      <td>2.0</td>\n",
       "      <td>2.0</td>\n",
       "      <td>1.0</td>\n",
       "      <td>2.0</td>\n",
       "    </tr>\n",
       "    <tr>\n",
       "      <th>1</th>\n",
       "      <td>07/06/2021 23:33:43</td>\n",
       "      <td>Australia</td>\n",
       "      <td>Perth</td>\n",
       "      <td>43</td>\n",
       "      <td>Female</td>\n",
       "      <td>0</td>\n",
       "      <td>22.0</td>\n",
       "      <td>I feel sleepy</td>\n",
       "      <td>10</td>\n",
       "      <td>5.5</td>\n",
       "      <td>...</td>\n",
       "      <td>NaN</td>\n",
       "      <td>NaN</td>\n",
       "      <td>NaN</td>\n",
       "      <td>NaN</td>\n",
       "      <td>NaN</td>\n",
       "      <td>NaN</td>\n",
       "      <td>NaN</td>\n",
       "      <td>NaN</td>\n",
       "      <td>NaN</td>\n",
       "      <td>NaN</td>\n",
       "    </tr>\n",
       "    <tr>\n",
       "      <th>2</th>\n",
       "      <td>08/06/2021 07:49:50</td>\n",
       "      <td>Australia</td>\n",
       "      <td>Perth</td>\n",
       "      <td>28</td>\n",
       "      <td>Male</td>\n",
       "      <td>1</td>\n",
       "      <td>23.0</td>\n",
       "      <td>I feel sleepy</td>\n",
       "      <td>15</td>\n",
       "      <td>7.0</td>\n",
       "      <td>...</td>\n",
       "      <td>NaN</td>\n",
       "      <td>NaN</td>\n",
       "      <td>NaN</td>\n",
       "      <td>NaN</td>\n",
       "      <td>NaN</td>\n",
       "      <td>NaN</td>\n",
       "      <td>NaN</td>\n",
       "      <td>NaN</td>\n",
       "      <td>NaN</td>\n",
       "      <td>NaN</td>\n",
       "    </tr>\n",
       "    <tr>\n",
       "      <th>3</th>\n",
       "      <td>08/06/2021 08:12:38</td>\n",
       "      <td>Australia</td>\n",
       "      <td>Perth</td>\n",
       "      <td>28</td>\n",
       "      <td>Male</td>\n",
       "      <td>1</td>\n",
       "      <td>23.0</td>\n",
       "      <td>I feel sleepy</td>\n",
       "      <td>15</td>\n",
       "      <td>7.0</td>\n",
       "      <td>...</td>\n",
       "      <td>NaN</td>\n",
       "      <td>NaN</td>\n",
       "      <td>NaN</td>\n",
       "      <td>NaN</td>\n",
       "      <td>NaN</td>\n",
       "      <td>NaN</td>\n",
       "      <td>NaN</td>\n",
       "      <td>NaN</td>\n",
       "      <td>NaN</td>\n",
       "      <td>NaN</td>\n",
       "    </tr>\n",
       "    <tr>\n",
       "      <th>4</th>\n",
       "      <td>08/06/2021 08:14:37</td>\n",
       "      <td>Australia</td>\n",
       "      <td>perth</td>\n",
       "      <td>40</td>\n",
       "      <td>Female</td>\n",
       "      <td>1</td>\n",
       "      <td>22.5</td>\n",
       "      <td>Other</td>\n",
       "      <td>20</td>\n",
       "      <td>6.5</td>\n",
       "      <td>...</td>\n",
       "      <td>20.0</td>\n",
       "      <td>Never</td>\n",
       "      <td>A’s and B’s</td>\n",
       "      <td>2.0</td>\n",
       "      <td>4.0</td>\n",
       "      <td>4.0</td>\n",
       "      <td>4.0</td>\n",
       "      <td>2.0</td>\n",
       "      <td>1.0</td>\n",
       "      <td>3.0</td>\n",
       "    </tr>\n",
       "    <tr>\n",
       "      <th>...</th>\n",
       "      <td>...</td>\n",
       "      <td>...</td>\n",
       "      <td>...</td>\n",
       "      <td>...</td>\n",
       "      <td>...</td>\n",
       "      <td>...</td>\n",
       "      <td>...</td>\n",
       "      <td>...</td>\n",
       "      <td>...</td>\n",
       "      <td>...</td>\n",
       "      <td>...</td>\n",
       "      <td>...</td>\n",
       "      <td>...</td>\n",
       "      <td>...</td>\n",
       "      <td>...</td>\n",
       "      <td>...</td>\n",
       "      <td>...</td>\n",
       "      <td>...</td>\n",
       "      <td>...</td>\n",
       "      <td>...</td>\n",
       "      <td>...</td>\n",
       "    </tr>\n",
       "    <tr>\n",
       "      <th>710</th>\n",
       "      <td>26/11/2021 04:20:27</td>\n",
       "      <td>Australia</td>\n",
       "      <td>Perth</td>\n",
       "      <td>16</td>\n",
       "      <td>Male</td>\n",
       "      <td>0</td>\n",
       "      <td>10.5</td>\n",
       "      <td>I feel sleepy</td>\n",
       "      <td>10</td>\n",
       "      <td>6.0</td>\n",
       "      <td>...</td>\n",
       "      <td>NaN</td>\n",
       "      <td>NaN</td>\n",
       "      <td>NaN</td>\n",
       "      <td>3.0</td>\n",
       "      <td>2.0</td>\n",
       "      <td>2.0</td>\n",
       "      <td>0.0</td>\n",
       "      <td>0.0</td>\n",
       "      <td>1.0</td>\n",
       "      <td>3.0</td>\n",
       "    </tr>\n",
       "    <tr>\n",
       "      <th>711</th>\n",
       "      <td>26/11/2021 04:24:09</td>\n",
       "      <td>Australia</td>\n",
       "      <td>Perth</td>\n",
       "      <td>16</td>\n",
       "      <td>Female</td>\n",
       "      <td>0</td>\n",
       "      <td>22.0</td>\n",
       "      <td>I feel sleepy</td>\n",
       "      <td>20</td>\n",
       "      <td>5.5</td>\n",
       "      <td>...</td>\n",
       "      <td>NaN</td>\n",
       "      <td>NaN</td>\n",
       "      <td>NaN</td>\n",
       "      <td>NaN</td>\n",
       "      <td>NaN</td>\n",
       "      <td>NaN</td>\n",
       "      <td>NaN</td>\n",
       "      <td>NaN</td>\n",
       "      <td>NaN</td>\n",
       "      <td>NaN</td>\n",
       "    </tr>\n",
       "    <tr>\n",
       "      <th>712</th>\n",
       "      <td>26/11/2021 04:27:42</td>\n",
       "      <td>India</td>\n",
       "      <td>pune</td>\n",
       "      <td>24</td>\n",
       "      <td>Non-binary</td>\n",
       "      <td>4</td>\n",
       "      <td>4.5</td>\n",
       "      <td>My parent / carer has set my bedtime</td>\n",
       "      <td>2</td>\n",
       "      <td>5.0</td>\n",
       "      <td>...</td>\n",
       "      <td>0.0</td>\n",
       "      <td>Everyday</td>\n",
       "      <td>D’s and F’s</td>\n",
       "      <td>4.0</td>\n",
       "      <td>0.0</td>\n",
       "      <td>5.0</td>\n",
       "      <td>5.0</td>\n",
       "      <td>5.0</td>\n",
       "      <td>5.0</td>\n",
       "      <td>0.0</td>\n",
       "    </tr>\n",
       "    <tr>\n",
       "      <th>713</th>\n",
       "      <td>26/11/2021 04:48:08</td>\n",
       "      <td>Australia</td>\n",
       "      <td>wa</td>\n",
       "      <td>16</td>\n",
       "      <td>Female</td>\n",
       "      <td>2</td>\n",
       "      <td>22.5</td>\n",
       "      <td>I get home from my job</td>\n",
       "      <td>30</td>\n",
       "      <td>6.5</td>\n",
       "      <td>...</td>\n",
       "      <td>4.0</td>\n",
       "      <td>Once</td>\n",
       "      <td>B’s and C’s</td>\n",
       "      <td>2.0</td>\n",
       "      <td>3.0</td>\n",
       "      <td>3.0</td>\n",
       "      <td>2.0</td>\n",
       "      <td>3.0</td>\n",
       "      <td>3.0</td>\n",
       "      <td>3.0</td>\n",
       "    </tr>\n",
       "    <tr>\n",
       "      <th>714</th>\n",
       "      <td>26/11/2021 05:56:17</td>\n",
       "      <td>Australia</td>\n",
       "      <td>perth</td>\n",
       "      <td>16</td>\n",
       "      <td>Female</td>\n",
       "      <td>2</td>\n",
       "      <td>0.5</td>\n",
       "      <td>I get home from my job</td>\n",
       "      <td>60</td>\n",
       "      <td>8.5</td>\n",
       "      <td>...</td>\n",
       "      <td>0.0</td>\n",
       "      <td>Everyday</td>\n",
       "      <td>C’s and D’s</td>\n",
       "      <td>2.0</td>\n",
       "      <td>2.0</td>\n",
       "      <td>4.0</td>\n",
       "      <td>1.0</td>\n",
       "      <td>2.0</td>\n",
       "      <td>2.0</td>\n",
       "      <td>2.0</td>\n",
       "    </tr>\n",
       "  </tbody>\n",
       "</table>\n",
       "<p>715 rows × 51 columns</p>\n",
       "</div>"
      ],
      "text/plain": [
       "               Timestamp In which country are you currently located?  \\\n",
       "0    01/06/2021 07:24:37                                   Australia   \n",
       "1    07/06/2021 23:33:43                                   Australia   \n",
       "2    08/06/2021 07:49:50                                   Australia   \n",
       "3    08/06/2021 08:12:38                                   Australia   \n",
       "4    08/06/2021 08:14:37                                   Australia   \n",
       "..                   ...                                         ...   \n",
       "710  26/11/2021 04:20:27                                   Australia   \n",
       "711  26/11/2021 04:24:09                                   Australia   \n",
       "712  26/11/2021 04:27:42                                       India   \n",
       "713  26/11/2021 04:48:08                                   Australia   \n",
       "714  26/11/2021 05:56:17                                   Australia   \n",
       "\n",
       "    In which city are you currently located?  How old are you?  \\\n",
       "0                                      Perth                29   \n",
       "1                                      Perth                43   \n",
       "2                                      Perth                28   \n",
       "3                                      Perth                28   \n",
       "4                                      perth                40   \n",
       "..                                       ...               ...   \n",
       "710                                    Perth                16   \n",
       "711                                    Perth                16   \n",
       "712                                     pune                24   \n",
       "713                                       wa                16   \n",
       "714                                    perth                16   \n",
       "\n",
       "    What is your gender?  \\\n",
       "0                    NaN   \n",
       "1                 Female   \n",
       "2                   Male   \n",
       "3                   Male   \n",
       "4                 Female   \n",
       "..                   ...   \n",
       "710                 Male   \n",
       "711               Female   \n",
       "712           Non-binary   \n",
       "713               Female   \n",
       "714               Female   \n",
       "\n",
       "     During your daytime activities, how much of a problem do you have with sleepiness?  \\\n",
       "0                                                    2                                    \n",
       "1                                                    0                                    \n",
       "2                                                    1                                    \n",
       "3                                                    1                                    \n",
       "4                                                    1                                    \n",
       "..                                                 ...                                    \n",
       "710                                                  0                                    \n",
       "711                                                  0                                    \n",
       "712                                                  4                                    \n",
       "713                                                  2                                    \n",
       "714                                                  2                                    \n",
       "\n",
       "     What time do you try to go to sleep?  \\\n",
       "0                                    22.0   \n",
       "1                                    22.0   \n",
       "2                                    23.0   \n",
       "3                                    23.0   \n",
       "4                                    22.5   \n",
       "..                                    ...   \n",
       "710                                  10.5   \n",
       "711                                  22.0   \n",
       "712                                   4.5   \n",
       "713                                  22.5   \n",
       "714                                   0.5   \n",
       "\n",
       "    What is the main reason you go to bed at this time on weekdays?  \\\n",
       "0                               I get home from my job                \n",
       "1                                        I feel sleepy                \n",
       "2                                        I feel sleepy                \n",
       "3                                        I feel sleepy                \n",
       "4                                                Other                \n",
       "..                                                 ...                \n",
       "710                                      I feel sleepy                \n",
       "711                                      I feel sleepy                \n",
       "712               My parent / carer has set my bedtime                \n",
       "713                             I get home from my job                \n",
       "714                             I get home from my job                \n",
       "\n",
       "     How long does it take you to fall asleep?  What time do you wake up?  \\\n",
       "0                                           45                        6.0   \n",
       "1                                           10                        5.5   \n",
       "2                                           15                        7.0   \n",
       "3                                           15                        7.0   \n",
       "4                                           20                        6.5   \n",
       "..                                         ...                        ...   \n",
       "710                                         10                        6.0   \n",
       "711                                         20                        5.5   \n",
       "712                                          2                        5.0   \n",
       "713                                         30                        6.5   \n",
       "714                                         60                        8.5   \n",
       "\n",
       "     ... How many hours did you study/do homework?  \\\n",
       "0    ...                                      50.0   \n",
       "1    ...                                       NaN   \n",
       "2    ...                                       NaN   \n",
       "3    ...                                       NaN   \n",
       "4    ...                                      20.0   \n",
       "..   ...                                       ...   \n",
       "710  ...                                       NaN   \n",
       "711  ...                                       NaN   \n",
       "712  ...                                       0.0   \n",
       "713  ...                                       4.0   \n",
       "714  ...                                       0.0   \n",
       "\n",
       "     How often have you arrived late to class because you overslept?  \\\n",
       "0                                                Never                 \n",
       "1                                                  NaN                 \n",
       "2                                                  NaN                 \n",
       "3                                                  NaN                 \n",
       "4                                                Never                 \n",
       "..                                                 ...                 \n",
       "710                                                NaN                 \n",
       "711                                                NaN                 \n",
       "712                                           Everyday                 \n",
       "713                                               Once                 \n",
       "714                                           Everyday                 \n",
       "\n",
       "     Currently, what are your grades in school mostly?  \\\n",
       "0                                          A’s and B’s   \n",
       "1                                                  NaN   \n",
       "2                                                  NaN   \n",
       "3                                                  NaN   \n",
       "4                                          A’s and B’s   \n",
       "..                                                 ...   \n",
       "710                                                NaN   \n",
       "711                                                NaN   \n",
       "712                                        D’s and F’s   \n",
       "713                                        B’s and C’s   \n",
       "714                                        C’s and D’s   \n",
       "\n",
       "    If you compare yourself to other people your age, how would you describe your health?  \\\n",
       "0                                                  3.0                                      \n",
       "1                                                  NaN                                      \n",
       "2                                                  NaN                                      \n",
       "3                                                  NaN                                      \n",
       "4                                                  2.0                                      \n",
       "..                                                 ...                                      \n",
       "710                                                3.0                                      \n",
       "711                                                NaN                                      \n",
       "712                                                4.0                                      \n",
       "713                                                2.0                                      \n",
       "714                                                2.0                                      \n",
       "\n",
       "     How often do I go to bed and think about things I need to do?  \\\n",
       "0                                                  3.0               \n",
       "1                                                  NaN               \n",
       "2                                                  NaN               \n",
       "3                                                  NaN               \n",
       "4                                                  4.0               \n",
       "..                                                 ...               \n",
       "710                                                2.0               \n",
       "711                                                NaN               \n",
       "712                                                0.0               \n",
       "713                                                3.0               \n",
       "714                                                2.0               \n",
       "\n",
       "     How often do I go to bed and replay the day’s events over and over in my mind?  \\\n",
       "0                                                  2.0                                \n",
       "1                                                  NaN                                \n",
       "2                                                  NaN                                \n",
       "3                                                  NaN                                \n",
       "4                                                  4.0                                \n",
       "..                                                 ...                                \n",
       "710                                                2.0                                \n",
       "711                                                NaN                                \n",
       "712                                                5.0                                \n",
       "713                                                3.0                                \n",
       "714                                                4.0                                \n",
       "\n",
       "     How often do I check my clock several times during the night?  \\\n",
       "0                                                  2.0               \n",
       "1                                                  NaN               \n",
       "2                                                  NaN               \n",
       "3                                                  NaN               \n",
       "4                                                  4.0               \n",
       "..                                                 ...               \n",
       "710                                                0.0               \n",
       "711                                                NaN               \n",
       "712                                                5.0               \n",
       "713                                                2.0               \n",
       "714                                                1.0               \n",
       "\n",
       "     During the 1 hour before bedtime, how often do things happen that make me feel strong emotions?  \\\n",
       "0                                                  2.0                                                 \n",
       "1                                                  NaN                                                 \n",
       "2                                                  NaN                                                 \n",
       "3                                                  NaN                                                 \n",
       "4                                                  2.0                                                 \n",
       "..                                                 ...                                                 \n",
       "710                                                0.0                                                 \n",
       "711                                                NaN                                                 \n",
       "712                                                5.0                                                 \n",
       "713                                                3.0                                                 \n",
       "714                                                2.0                                                 \n",
       "\n",
       "     How often do I go to bed feeling upset?  \\\n",
       "0                                        1.0   \n",
       "1                                        NaN   \n",
       "2                                        NaN   \n",
       "3                                        NaN   \n",
       "4                                        1.0   \n",
       "..                                       ...   \n",
       "710                                      1.0   \n",
       "711                                      NaN   \n",
       "712                                      5.0   \n",
       "713                                      3.0   \n",
       "714                                      2.0   \n",
       "\n",
       "     How often do I go to bed and worry about things happening at home or at school?  \n",
       "0                                                  2.0                                \n",
       "1                                                  NaN                                \n",
       "2                                                  NaN                                \n",
       "3                                                  NaN                                \n",
       "4                                                  3.0                                \n",
       "..                                                 ...                                \n",
       "710                                                3.0                                \n",
       "711                                                NaN                                \n",
       "712                                                0.0                                \n",
       "713                                                3.0                                \n",
       "714                                                2.0                                \n",
       "\n",
       "[715 rows x 51 columns]"
      ]
     },
     "execution_count": 3,
     "metadata": {},
     "output_type": "execute_result"
    }
   ],
   "source": [
    "s_data = pd.read_csv('surveydata.csv')\n",
    "s_data\n"
   ]
  },
  {
   "cell_type": "markdown",
   "id": "02eb10ce-3082-412e-8686-a37080f7b22d",
   "metadata": {},
   "source": [
    "# Accessing And Manipulating Data\n",
    "All of the data will now be accessed by using the *s_data* variable. This is where knowing the exact questions asked in the survey is important. To acess the data contained in columns of the data above you need to use the following code: s_data['question'], where question in the question that you want the data from. \n",
    "> e.g\n",
    ">\n",
    "> data = s_data['In which city are you currently located?']\n",
    ">\n",
    "> data = s_data['How old are you?']\n",
    "\n",
    "In the following two blocks you can see what this looks like. Feel free to change the question text contained in the [] bellow to see what other field of data look like. "
   ]
  },
  {
   "cell_type": "code",
   "execution_count": 4,
   "id": "73504d9d-f402-484c-bcba-ca6cc5bb00fb",
   "metadata": {},
   "outputs": [
    {
     "data": {
      "text/plain": [
       "0      Perth\n",
       "1      Perth\n",
       "2      Perth\n",
       "3      Perth\n",
       "4      perth\n",
       "       ...  \n",
       "710    Perth\n",
       "711    Perth\n",
       "712     pune\n",
       "713       wa\n",
       "714    perth\n",
       "Name: In which city are you currently located?, Length: 715, dtype: object"
      ]
     },
     "execution_count": 4,
     "metadata": {},
     "output_type": "execute_result"
    }
   ],
   "source": [
    "data = s_data['In which city are you currently located?']\n",
    "data"
   ]
  },
  {
   "cell_type": "code",
   "execution_count": 5,
   "id": "d4104d52-0ae3-4767-8afb-0f8de33b7829",
   "metadata": {},
   "outputs": [
    {
     "data": {
      "text/plain": [
       "0      29\n",
       "1      43\n",
       "2      28\n",
       "3      28\n",
       "4      40\n",
       "       ..\n",
       "710    16\n",
       "711    16\n",
       "712    24\n",
       "713    16\n",
       "714    16\n",
       "Name: How old are you?, Length: 715, dtype: int64"
      ]
     },
     "execution_count": 5,
     "metadata": {},
     "output_type": "execute_result"
    }
   ],
   "source": [
    "data = s_data['How old are you?']\n",
    "data"
   ]
  },
  {
   "cell_type": "markdown",
   "id": "cd76daca-d353-453b-a860-56f58b84d642",
   "metadata": {},
   "source": [
    "# Changing The Data Into The Required Format For Graphing\n",
    "\n",
    "Currently the data is in the wrong data type for it to be graphed using the methods in the datagraph module. Another Problem you might come across is some data may contain Nan values. This is the module numpys' way of saying their was no data entered. To get rid of these nan values and change the data into the format we want we need to run \n",
    "\n",
    "> data.dropna().to_numpy().tolist()\n"
   ]
  },
  {
   "cell_type": "code",
   "execution_count": 6,
   "id": "a6818eb4-6aaf-49ee-8c71-567c8f176aff",
   "metadata": {},
   "outputs": [
    {
     "data": {
      "text/plain": [
       "[15, 12, 34, 11, 16, 16, 24, 16, 16]"
      ]
     },
     "execution_count": 6,
     "metadata": {},
     "output_type": "execute_result"
    }
   ],
   "source": [
    "m_data = data.dropna().to_numpy().tolist()\n",
    "m_data[-9:]"
   ]
  },
  {
   "attachments": {
    "026d4d66-aaaf-454b-889f-436d0b120d90.png": {
     "image/png": "[encoded data removed]"
    }
   },
   "cell_type": "markdown",
   "id": "24d90dff-12df-498c-a92d-d63df8dd37cc",
   "metadata": {},
   "source": [
    "# Graphing Your First Data Set\n",
    "## What Are Functions, Arguments And Keyword Arguments\n",
    "\n",
    "Each of the methods used in both the Graph and the Categorical Class require the entering of data by keyword arguments. Keyword arguments are values that are passed into methods by name. e.g In the following piece of code *data* is the keyword and *frequency* is the passed argument. To find information about any module the first place you should check is the documentation. This small exert of the documentation shows the default keyword arguments for the Categorical object.\n",
    "\n",
    "![image.png](attachment:026d4d66-aaaf-454b-889f-436d0b120d90.png)\n",
    "\n",
    "If you have any questions about how to use the datagraph module you should check the documentation. \n",
    "The datagraph module has two main classes that you will be interacting with are *Categorical* and *Other*. The Categorical class allows you to produce categorical graphs. Likewise, the Other class allows the generation of all the other types of graph the datagraph module has. Bellow this block an example of how to produce each type of graph is shown.\n"
   ]
  },
  {
   "cell_type": "code",
   "execution_count": 7,
   "id": "47fa253a-69db-466d-9099-c07ecac3babc",
   "metadata": {},
   "outputs": [
    {
     "name": "stdout",
     "output_type": "stream",
     "text": [
      "<class 'list'>\n",
      "Handling Error, get_data\n",
      "Checking Data!\n",
      "Handling Error, get_data\n",
      "Checking Data!\n"
     ]
    },
    {
     "data": {
      "application/vnd.jupyter.widget-view+json": {
       "model_id": "261596b5d8b8452db3a011486913598b",
       "version_major": 2,
       "version_minor": 0
      },
      "text/plain": [
       "Canvas(toolbar=Toolbar(toolitems=[('Home', 'Reset original view', 'home', 'home'), ('Back', 'Back to previous …"
      ]
     },
     "metadata": {},
     "output_type": "display_data"
    },
    {
     "name": "stdout",
     "output_type": "stream",
     "text": [
      "Handling Error, get_data\n",
      "Checking Data!\n"
     ]
    },
    {
     "data": {
      "application/vnd.jupyter.widget-view+json": {
       "model_id": "572a14a0f48848b9b59d977cddbffbc6",
       "version_major": 2,
       "version_minor": 0
      },
      "text/plain": [
       "Canvas(toolbar=Toolbar(toolitems=[('Home', 'Reset original view', 'home', 'home'), ('Back', 'Back to previous …"
      ]
     },
     "metadata": {},
     "output_type": "display_data"
    },
    {
     "name": "stdout",
     "output_type": "stream",
     "text": [
      "Handling Error, get_data\n",
      "Checking Data!\n",
      "Handling Error, get_data\n",
      "Checking Data!\n"
     ]
    },
    {
     "data": {
      "application/vnd.jupyter.widget-view+json": {
       "model_id": "fa2389126bf248cca0366a828c212bd5",
       "version_major": 2,
       "version_minor": 0
      },
      "text/plain": [
       "Canvas(toolbar=Toolbar(toolitems=[('Home', 'Reset original view', 'home', 'home'), ('Back', 'Back to previous …"
      ]
     },
     "metadata": {},
     "output_type": "display_data"
    }
   ],
   "source": [
    "#Step 1 Localise the data\n",
    "title_data = 'If you compare yourself to other people your age, how would you describe your health?' # \"How rested or refreshed do you feel when you wake up for the day?\"\n",
    "data_bar = s_data[title_data] #Note When Using How - usualy categorical data from 1-5, what is usaully some other type\n",
    "frequency = data_bar.value_counts(sort=False).sort_index(ascending=True).dropna().to_numpy().tolist() #Extracts the frequncy of responses per category\n",
    "ypos =  np.arange(len(frequency)) #Automatically assigns indexs for each number in the data\n",
    "\n",
    "print(type(frequency))\n",
    "c = Categorical(data=frequency, title_main=title_data, labels=categorical_labels[title_data], title_x = \"Amount\", title_y=\"Criteria\")\n",
    "\n",
    "c.graph_bar()\n",
    "c.graph_pie()\n",
    "temp = s_data[title_data].dropna().to_numpy().tolist() #Need to make this a function\n",
    "\n",
    "temp[:30]\n",
    "g = Categorical(data=temp[:30])\n",
    "g.graph_bar()"
   ]
  },
  {
   "cell_type": "markdown",
   "id": "166f5b57-89b5-4734-b951-25cf1fd426a7",
   "metadata": {
    "tags": []
   },
   "source": [
    "# Graphing a barchart\n",
    "\n",
    "add explanation here about what doing and the motive\n"
   ]
  },
  {
   "cell_type": "code",
   "execution_count": 8,
   "id": "c9d78443-0938-41a8-b7af-86b0466b3a34",
   "metadata": {
    "tags": []
   },
   "outputs": [
    {
     "name": "stdout",
     "output_type": "stream",
     "text": [
      "Handling Error, get_data\n",
      "Checking Data!\n"
     ]
    },
    {
     "data": {
      "application/vnd.jupyter.widget-view+json": {
       "model_id": "09945a24ba93483b9fd82c6c0fb5b75a",
       "version_major": 2,
       "version_minor": 0
      },
      "text/plain": [
       "Canvas(toolbar=Toolbar(toolitems=[('Home', 'Reset original view', 'home', 'home'), ('Back', 'Back to previous …"
      ]
     },
     "metadata": {},
     "output_type": "display_data"
    }
   ],
   "source": [
    "oth = Other(title_main=title_data, data=frequency, data_x=frequency, data_y=s_data['If you compare yourself to other people your age, how would you describe your health?'].value_counts(sort=False).sort_index(ascending=True).dropna().to_numpy().tolist())\n",
    "oth.graph_box()"
   ]
  },
  {
   "cell_type": "code",
   "execution_count": 9,
   "id": "a9810713-8110-439d-ac4a-4819f76593e2",
   "metadata": {},
   "outputs": [
    {
     "name": "stdout",
     "output_type": "stream",
     "text": [
      "Handling Error, get_data\n",
      "Checking Data!\n"
     ]
    },
    {
     "data": {
      "application/vnd.jupyter.widget-view+json": {
       "model_id": "a2ed56c9c81f4420a2e6f6552738af5b",
       "version_major": 2,
       "version_minor": 0
      },
      "text/plain": [
       "Canvas(toolbar=Toolbar(toolitems=[('Home', 'Reset original view', 'home', 'home'), ('Back', 'Back to previous …"
      ]
     },
     "metadata": {},
     "output_type": "display_data"
    }
   ],
   "source": [
    "oth.graph_loli()"
   ]
  },
  {
   "cell_type": "code",
   "execution_count": 10,
   "id": "6940030c-596c-4b49-ae70-9b5191558276",
   "metadata": {},
   "outputs": [
    {
     "name": "stdout",
     "output_type": "stream",
     "text": [
      "Handling Error, get_data_x\n",
      "Checking Data!\n",
      "Handling Error, get_data_y\n",
      "Checking Data!\n"
     ]
    },
    {
     "data": {
      "application/vnd.jupyter.widget-view+json": {
       "model_id": "6c5535e85fdf4bc49719ec4e60b37fa2",
       "version_major": 2,
       "version_minor": 0
      },
      "text/plain": [
       "Canvas(toolbar=Toolbar(toolitems=[('Home', 'Reset original view', 'home', 'home'), ('Back', 'Back to previous …"
      ]
     },
     "metadata": {},
     "output_type": "display_data"
    }
   ],
   "source": [
    "oth.graph_scatter()"
   ]
  },
  {
   "cell_type": "code",
   "execution_count": 11,
   "id": "c845fbb9-6a63-4834-a8cf-4dab843aed5b",
   "metadata": {},
   "outputs": [
    {
     "name": "stdout",
     "output_type": "stream",
     "text": [
      "Handling Error, get_data\n",
      "Checking Data!\n"
     ]
    },
    {
     "data": {
      "application/vnd.jupyter.widget-view+json": {
       "model_id": "e476506fc69b4821997d087f0b775e18",
       "version_major": 2,
       "version_minor": 0
      },
      "text/plain": [
       "Canvas(toolbar=Toolbar(toolitems=[('Home', 'Reset original view', 'home', 'home'), ('Back', 'Back to previous …"
      ]
     },
     "metadata": {},
     "output_type": "display_data"
    },
    {
     "name": "stdout",
     "output_type": "stream",
     "text": [
      "Handling Error, get_data\n",
      "Checking Data!\n"
     ]
    },
    {
     "data": {
      "application/vnd.jupyter.widget-view+json": {
       "model_id": "04b5313252fa498f9df9c37d99aaeaec",
       "version_major": 2,
       "version_minor": 0
      },
      "text/plain": [
       "Canvas(toolbar=Toolbar(toolitems=[('Home', 'Reset original view', 'home', 'home'), ('Back', 'Back to previous …"
      ]
     },
     "metadata": {},
     "output_type": "display_data"
    }
   ],
   "source": [
    "oth.graph_density()\n",
    "oth.graph_density(fill=True)"
   ]
  },
  {
   "cell_type": "code",
   "execution_count": 12,
   "id": "9cf3047e-9643-4688-9c5c-0df870d76dca",
   "metadata": {},
   "outputs": [
    {
     "data": {
      "application/vnd.jupyter.widget-view+json": {
       "model_id": "a3149e0049a44257982e0f30363f0de6",
       "version_major": 2,
       "version_minor": 0
      },
      "text/plain": [
       "Canvas(toolbar=Toolbar(toolitems=[('Home', 'Reset original view', 'home', 'home'), ('Back', 'Back to previous …"
      ]
     },
     "metadata": {},
     "output_type": "display_data"
    },
    {
     "name": "stdout",
     "output_type": "stream",
     "text": [
      "Handling Error, get_data\n",
      "Checking Data!\n"
     ]
    }
   ],
   "source": [
    "oth.graph_violin()"
   ]
  },
  {
   "cell_type": "markdown",
   "id": "767b939b-6f44-4516-b64a-61930514c79e",
   "metadata": {},
   "source": [
    "# Common Errors\n"
   ]
  },
  {
   "cell_type": "code",
   "execution_count": null,
   "id": "170d1e90-8e1b-44ad-8d75-0ad0f75eb3c4",
   "metadata": {},
   "outputs": [],
   "source": []
  }
 ],
 "metadata": {
  "kernelspec": {
   "display_name": "Python 3 (ipykernel)",
   "language": "python",
   "name": "python3"
  },
  "language_info": {
   "codemirror_mode": {
    "name": "ipython",
    "version": 3
   },
   "file_extension": ".py",
   "mimetype": "text/x-python",
   "name": "python",
   "nbconvert_exporter": "python",
   "pygments_lexer": "ipython3",
   "version": "3.9.7"
  }
 },
 "nbformat": 4,
 "nbformat_minor": 5
}
